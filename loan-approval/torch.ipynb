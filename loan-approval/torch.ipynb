{
 "cells": [
  {
   "cell_type": "code",
   "execution_count": 1,
   "id": "ed306d1f-10ac-4536-9e14-607c7c16f19c",
   "metadata": {},
   "outputs": [],
   "source": [
    "!rmdir /S /Q lightning_logs"
   ]
  },
  {
   "cell_type": "code",
   "execution_count": 2,
   "id": "b5dbad1b-495d-4bf6-a171-0c17c726d3b5",
   "metadata": {},
   "outputs": [],
   "source": [
    "import feature_engine.encoding\n",
    "import feature_engine.pipeline\n",
    "import feature_engine.selection\n",
    "import feature_engine.wrappers\n",
    "import lightning\n",
    "import pandas\n",
    "import sklearn.preprocessing\n",
    "import torch\n",
    "import torchmetrics"
   ]
  },
  {
   "cell_type": "code",
   "execution_count": 3,
   "id": "784099cc-9d64-4d21-b6c1-7de50ce63e2a",
   "metadata": {},
   "outputs": [
    {
     "name": "stderr",
     "output_type": "stream",
     "text": [
      "Seed set to 0\n"
     ]
    },
    {
     "data": {
      "text/plain": [
       "0"
      ]
     },
     "execution_count": 3,
     "metadata": {},
     "output_type": "execute_result"
    }
   ],
   "source": [
    "lightning.seed_everything(0)"
   ]
  },
  {
   "cell_type": "code",
   "execution_count": 4,
   "id": "14d106f8-b9af-4202-b643-83d0f51fe5b4",
   "metadata": {},
   "outputs": [],
   "source": [
    "train_df = pandas.read_csv(\"train.csv\")"
   ]
  },
  {
   "cell_type": "code",
   "execution_count": 5,
   "id": "2d7f6d4b-df9f-4d9f-b0e2-847953fc42e3",
   "metadata": {},
   "outputs": [
    {
     "data": {
      "text/html": [
       "<div>\n",
       "<style scoped>\n",
       "    .dataframe tbody tr th:only-of-type {\n",
       "        vertical-align: middle;\n",
       "    }\n",
       "\n",
       "    .dataframe tbody tr th {\n",
       "        vertical-align: top;\n",
       "    }\n",
       "\n",
       "    .dataframe thead th {\n",
       "        text-align: right;\n",
       "    }\n",
       "</style>\n",
       "<table border=\"1\" class=\"dataframe\">\n",
       "  <thead>\n",
       "    <tr style=\"text-align: right;\">\n",
       "      <th></th>\n",
       "      <th>id</th>\n",
       "      <th>person_age</th>\n",
       "      <th>person_income</th>\n",
       "      <th>person_home_ownership</th>\n",
       "      <th>person_emp_length</th>\n",
       "      <th>loan_intent</th>\n",
       "      <th>loan_grade</th>\n",
       "      <th>loan_amnt</th>\n",
       "      <th>loan_int_rate</th>\n",
       "      <th>loan_percent_income</th>\n",
       "      <th>cb_person_default_on_file</th>\n",
       "      <th>cb_person_cred_hist_length</th>\n",
       "      <th>loan_status</th>\n",
       "    </tr>\n",
       "  </thead>\n",
       "  <tbody>\n",
       "    <tr>\n",
       "      <th>0</th>\n",
       "      <td>0</td>\n",
       "      <td>37</td>\n",
       "      <td>35000</td>\n",
       "      <td>RENT</td>\n",
       "      <td>0.0</td>\n",
       "      <td>EDUCATION</td>\n",
       "      <td>B</td>\n",
       "      <td>6000</td>\n",
       "      <td>11.49</td>\n",
       "      <td>0.17</td>\n",
       "      <td>N</td>\n",
       "      <td>14</td>\n",
       "      <td>0</td>\n",
       "    </tr>\n",
       "    <tr>\n",
       "      <th>1</th>\n",
       "      <td>1</td>\n",
       "      <td>22</td>\n",
       "      <td>56000</td>\n",
       "      <td>OWN</td>\n",
       "      <td>6.0</td>\n",
       "      <td>MEDICAL</td>\n",
       "      <td>C</td>\n",
       "      <td>4000</td>\n",
       "      <td>13.35</td>\n",
       "      <td>0.07</td>\n",
       "      <td>N</td>\n",
       "      <td>2</td>\n",
       "      <td>0</td>\n",
       "    </tr>\n",
       "    <tr>\n",
       "      <th>2</th>\n",
       "      <td>2</td>\n",
       "      <td>29</td>\n",
       "      <td>28800</td>\n",
       "      <td>OWN</td>\n",
       "      <td>8.0</td>\n",
       "      <td>PERSONAL</td>\n",
       "      <td>A</td>\n",
       "      <td>6000</td>\n",
       "      <td>8.90</td>\n",
       "      <td>0.21</td>\n",
       "      <td>N</td>\n",
       "      <td>10</td>\n",
       "      <td>0</td>\n",
       "    </tr>\n",
       "    <tr>\n",
       "      <th>3</th>\n",
       "      <td>3</td>\n",
       "      <td>30</td>\n",
       "      <td>70000</td>\n",
       "      <td>RENT</td>\n",
       "      <td>14.0</td>\n",
       "      <td>VENTURE</td>\n",
       "      <td>B</td>\n",
       "      <td>12000</td>\n",
       "      <td>11.11</td>\n",
       "      <td>0.17</td>\n",
       "      <td>N</td>\n",
       "      <td>5</td>\n",
       "      <td>0</td>\n",
       "    </tr>\n",
       "    <tr>\n",
       "      <th>4</th>\n",
       "      <td>4</td>\n",
       "      <td>22</td>\n",
       "      <td>60000</td>\n",
       "      <td>RENT</td>\n",
       "      <td>2.0</td>\n",
       "      <td>MEDICAL</td>\n",
       "      <td>A</td>\n",
       "      <td>6000</td>\n",
       "      <td>6.92</td>\n",
       "      <td>0.10</td>\n",
       "      <td>N</td>\n",
       "      <td>3</td>\n",
       "      <td>0</td>\n",
       "    </tr>\n",
       "    <tr>\n",
       "      <th>...</th>\n",
       "      <td>...</td>\n",
       "      <td>...</td>\n",
       "      <td>...</td>\n",
       "      <td>...</td>\n",
       "      <td>...</td>\n",
       "      <td>...</td>\n",
       "      <td>...</td>\n",
       "      <td>...</td>\n",
       "      <td>...</td>\n",
       "      <td>...</td>\n",
       "      <td>...</td>\n",
       "      <td>...</td>\n",
       "      <td>...</td>\n",
       "    </tr>\n",
       "    <tr>\n",
       "      <th>58640</th>\n",
       "      <td>58640</td>\n",
       "      <td>34</td>\n",
       "      <td>120000</td>\n",
       "      <td>MORTGAGE</td>\n",
       "      <td>5.0</td>\n",
       "      <td>EDUCATION</td>\n",
       "      <td>D</td>\n",
       "      <td>25000</td>\n",
       "      <td>15.95</td>\n",
       "      <td>0.21</td>\n",
       "      <td>Y</td>\n",
       "      <td>10</td>\n",
       "      <td>0</td>\n",
       "    </tr>\n",
       "    <tr>\n",
       "      <th>58641</th>\n",
       "      <td>58641</td>\n",
       "      <td>28</td>\n",
       "      <td>28800</td>\n",
       "      <td>RENT</td>\n",
       "      <td>0.0</td>\n",
       "      <td>MEDICAL</td>\n",
       "      <td>C</td>\n",
       "      <td>10000</td>\n",
       "      <td>12.73</td>\n",
       "      <td>0.35</td>\n",
       "      <td>N</td>\n",
       "      <td>8</td>\n",
       "      <td>1</td>\n",
       "    </tr>\n",
       "    <tr>\n",
       "      <th>58642</th>\n",
       "      <td>58642</td>\n",
       "      <td>23</td>\n",
       "      <td>44000</td>\n",
       "      <td>RENT</td>\n",
       "      <td>7.0</td>\n",
       "      <td>EDUCATION</td>\n",
       "      <td>D</td>\n",
       "      <td>6800</td>\n",
       "      <td>16.00</td>\n",
       "      <td>0.15</td>\n",
       "      <td>N</td>\n",
       "      <td>2</td>\n",
       "      <td>1</td>\n",
       "    </tr>\n",
       "    <tr>\n",
       "      <th>58643</th>\n",
       "      <td>58643</td>\n",
       "      <td>22</td>\n",
       "      <td>30000</td>\n",
       "      <td>RENT</td>\n",
       "      <td>2.0</td>\n",
       "      <td>EDUCATION</td>\n",
       "      <td>A</td>\n",
       "      <td>5000</td>\n",
       "      <td>8.90</td>\n",
       "      <td>0.17</td>\n",
       "      <td>N</td>\n",
       "      <td>3</td>\n",
       "      <td>0</td>\n",
       "    </tr>\n",
       "    <tr>\n",
       "      <th>58644</th>\n",
       "      <td>58644</td>\n",
       "      <td>31</td>\n",
       "      <td>75000</td>\n",
       "      <td>MORTGAGE</td>\n",
       "      <td>2.0</td>\n",
       "      <td>VENTURE</td>\n",
       "      <td>B</td>\n",
       "      <td>15000</td>\n",
       "      <td>11.11</td>\n",
       "      <td>0.20</td>\n",
       "      <td>N</td>\n",
       "      <td>5</td>\n",
       "      <td>0</td>\n",
       "    </tr>\n",
       "  </tbody>\n",
       "</table>\n",
       "<p>58645 rows × 13 columns</p>\n",
       "</div>"
      ],
      "text/plain": [
       "          id  person_age  person_income person_home_ownership  \\\n",
       "0          0          37          35000                  RENT   \n",
       "1          1          22          56000                   OWN   \n",
       "2          2          29          28800                   OWN   \n",
       "3          3          30          70000                  RENT   \n",
       "4          4          22          60000                  RENT   \n",
       "...      ...         ...            ...                   ...   \n",
       "58640  58640          34         120000              MORTGAGE   \n",
       "58641  58641          28          28800                  RENT   \n",
       "58642  58642          23          44000                  RENT   \n",
       "58643  58643          22          30000                  RENT   \n",
       "58644  58644          31          75000              MORTGAGE   \n",
       "\n",
       "       person_emp_length loan_intent loan_grade  loan_amnt  loan_int_rate  \\\n",
       "0                    0.0   EDUCATION          B       6000          11.49   \n",
       "1                    6.0     MEDICAL          C       4000          13.35   \n",
       "2                    8.0    PERSONAL          A       6000           8.90   \n",
       "3                   14.0     VENTURE          B      12000          11.11   \n",
       "4                    2.0     MEDICAL          A       6000           6.92   \n",
       "...                  ...         ...        ...        ...            ...   \n",
       "58640                5.0   EDUCATION          D      25000          15.95   \n",
       "58641                0.0     MEDICAL          C      10000          12.73   \n",
       "58642                7.0   EDUCATION          D       6800          16.00   \n",
       "58643                2.0   EDUCATION          A       5000           8.90   \n",
       "58644                2.0     VENTURE          B      15000          11.11   \n",
       "\n",
       "       loan_percent_income cb_person_default_on_file  \\\n",
       "0                     0.17                         N   \n",
       "1                     0.07                         N   \n",
       "2                     0.21                         N   \n",
       "3                     0.17                         N   \n",
       "4                     0.10                         N   \n",
       "...                    ...                       ...   \n",
       "58640                 0.21                         Y   \n",
       "58641                 0.35                         N   \n",
       "58642                 0.15                         N   \n",
       "58643                 0.17                         N   \n",
       "58644                 0.20                         N   \n",
       "\n",
       "       cb_person_cred_hist_length  loan_status  \n",
       "0                              14            0  \n",
       "1                               2            0  \n",
       "2                              10            0  \n",
       "3                               5            0  \n",
       "4                               3            0  \n",
       "...                           ...          ...  \n",
       "58640                          10            0  \n",
       "58641                           8            1  \n",
       "58642                           2            1  \n",
       "58643                           3            0  \n",
       "58644                           5            0  \n",
       "\n",
       "[58645 rows x 13 columns]"
      ]
     },
     "execution_count": 5,
     "metadata": {},
     "output_type": "execute_result"
    }
   ],
   "source": [
    "train_df"
   ]
  },
  {
   "cell_type": "code",
   "execution_count": 6,
   "id": "2c495f0a-79a8-409b-a760-da5020fe1b45",
   "metadata": {},
   "outputs": [
    {
     "data": {
      "text/plain": [
       "id                            0\n",
       "person_age                    0\n",
       "person_income                 0\n",
       "person_home_ownership         0\n",
       "person_emp_length             0\n",
       "loan_intent                   0\n",
       "loan_grade                    0\n",
       "loan_amnt                     0\n",
       "loan_int_rate                 0\n",
       "loan_percent_income           0\n",
       "cb_person_default_on_file     0\n",
       "cb_person_cred_hist_length    0\n",
       "loan_status                   0\n",
       "dtype: int64"
      ]
     },
     "execution_count": 6,
     "metadata": {},
     "output_type": "execute_result"
    }
   ],
   "source": [
    "train_df.isnull().sum()"
   ]
  },
  {
   "cell_type": "code",
   "execution_count": 7,
   "id": "3b6dabf9-7ad0-40c9-be06-bed887122531",
   "metadata": {},
   "outputs": [],
   "source": [
    "pipeline = feature_engine.pipeline.make_pipeline(\n",
    "    feature_engine.selection.DropFeatures(features_to_drop=[\"id\"]),\n",
    "    feature_engine.encoding.OrdinalEncoder(encoding_method=\"arbitrary\", variables=[\"person_home_ownership\", \"loan_intent\", \"loan_grade\", \"cb_person_default_on_file\"]),\n",
    "    feature_engine.wrappers.SklearnTransformerWrapper(transformer=sklearn.preprocessing.MinMaxScaler(), variables=[\"person_age\", \"person_income\", \"person_emp_length\", \"loan_amnt\", \"loan_int_rate\", \"loan_percent_income\", \"cb_person_cred_hist_length\"]),\n",
    ")"
   ]
  },
  {
   "cell_type": "code",
   "execution_count": 8,
   "id": "67197d2d-a42e-4c0e-bcf3-546c7dc1157d",
   "metadata": {},
   "outputs": [
    {
     "data": {
      "text/html": [
       "<div>\n",
       "<style scoped>\n",
       "    .dataframe tbody tr th:only-of-type {\n",
       "        vertical-align: middle;\n",
       "    }\n",
       "\n",
       "    .dataframe tbody tr th {\n",
       "        vertical-align: top;\n",
       "    }\n",
       "\n",
       "    .dataframe thead th {\n",
       "        text-align: right;\n",
       "    }\n",
       "</style>\n",
       "<table border=\"1\" class=\"dataframe\">\n",
       "  <thead>\n",
       "    <tr style=\"text-align: right;\">\n",
       "      <th></th>\n",
       "      <th>person_age</th>\n",
       "      <th>person_income</th>\n",
       "      <th>person_home_ownership</th>\n",
       "      <th>person_emp_length</th>\n",
       "      <th>loan_intent</th>\n",
       "      <th>loan_grade</th>\n",
       "      <th>loan_amnt</th>\n",
       "      <th>loan_int_rate</th>\n",
       "      <th>loan_percent_income</th>\n",
       "      <th>cb_person_default_on_file</th>\n",
       "      <th>cb_person_cred_hist_length</th>\n",
       "      <th>loan_status</th>\n",
       "    </tr>\n",
       "  </thead>\n",
       "  <tbody>\n",
       "    <tr>\n",
       "      <th>0</th>\n",
       "      <td>0.165049</td>\n",
       "      <td>0.016246</td>\n",
       "      <td>0</td>\n",
       "      <td>0.000000</td>\n",
       "      <td>0</td>\n",
       "      <td>0</td>\n",
       "      <td>0.159420</td>\n",
       "      <td>0.341011</td>\n",
       "      <td>0.204819</td>\n",
       "      <td>0</td>\n",
       "      <td>0.428571</td>\n",
       "      <td>0</td>\n",
       "    </tr>\n",
       "    <tr>\n",
       "      <th>1</th>\n",
       "      <td>0.019417</td>\n",
       "      <td>0.027324</td>\n",
       "      <td>1</td>\n",
       "      <td>0.048780</td>\n",
       "      <td>1</td>\n",
       "      <td>1</td>\n",
       "      <td>0.101449</td>\n",
       "      <td>0.445506</td>\n",
       "      <td>0.084337</td>\n",
       "      <td>0</td>\n",
       "      <td>0.000000</td>\n",
       "      <td>0</td>\n",
       "    </tr>\n",
       "    <tr>\n",
       "      <th>2</th>\n",
       "      <td>0.087379</td>\n",
       "      <td>0.012976</td>\n",
       "      <td>1</td>\n",
       "      <td>0.065041</td>\n",
       "      <td>2</td>\n",
       "      <td>2</td>\n",
       "      <td>0.159420</td>\n",
       "      <td>0.195506</td>\n",
       "      <td>0.253012</td>\n",
       "      <td>0</td>\n",
       "      <td>0.285714</td>\n",
       "      <td>0</td>\n",
       "    </tr>\n",
       "    <tr>\n",
       "      <th>3</th>\n",
       "      <td>0.097087</td>\n",
       "      <td>0.034708</td>\n",
       "      <td>0</td>\n",
       "      <td>0.113821</td>\n",
       "      <td>3</td>\n",
       "      <td>0</td>\n",
       "      <td>0.333333</td>\n",
       "      <td>0.319663</td>\n",
       "      <td>0.204819</td>\n",
       "      <td>0</td>\n",
       "      <td>0.107143</td>\n",
       "      <td>0</td>\n",
       "    </tr>\n",
       "    <tr>\n",
       "      <th>4</th>\n",
       "      <td>0.019417</td>\n",
       "      <td>0.029433</td>\n",
       "      <td>0</td>\n",
       "      <td>0.016260</td>\n",
       "      <td>1</td>\n",
       "      <td>2</td>\n",
       "      <td>0.159420</td>\n",
       "      <td>0.084270</td>\n",
       "      <td>0.120482</td>\n",
       "      <td>0</td>\n",
       "      <td>0.035714</td>\n",
       "      <td>0</td>\n",
       "    </tr>\n",
       "    <tr>\n",
       "      <th>...</th>\n",
       "      <td>...</td>\n",
       "      <td>...</td>\n",
       "      <td>...</td>\n",
       "      <td>...</td>\n",
       "      <td>...</td>\n",
       "      <td>...</td>\n",
       "      <td>...</td>\n",
       "      <td>...</td>\n",
       "      <td>...</td>\n",
       "      <td>...</td>\n",
       "      <td>...</td>\n",
       "      <td>...</td>\n",
       "    </tr>\n",
       "    <tr>\n",
       "      <th>58640</th>\n",
       "      <td>0.135922</td>\n",
       "      <td>0.061082</td>\n",
       "      <td>2</td>\n",
       "      <td>0.040650</td>\n",
       "      <td>0</td>\n",
       "      <td>3</td>\n",
       "      <td>0.710145</td>\n",
       "      <td>0.591573</td>\n",
       "      <td>0.253012</td>\n",
       "      <td>1</td>\n",
       "      <td>0.285714</td>\n",
       "      <td>0</td>\n",
       "    </tr>\n",
       "    <tr>\n",
       "      <th>58641</th>\n",
       "      <td>0.077670</td>\n",
       "      <td>0.012976</td>\n",
       "      <td>0</td>\n",
       "      <td>0.000000</td>\n",
       "      <td>1</td>\n",
       "      <td>1</td>\n",
       "      <td>0.275362</td>\n",
       "      <td>0.410674</td>\n",
       "      <td>0.421687</td>\n",
       "      <td>0</td>\n",
       "      <td>0.214286</td>\n",
       "      <td>1</td>\n",
       "    </tr>\n",
       "    <tr>\n",
       "      <th>58642</th>\n",
       "      <td>0.029126</td>\n",
       "      <td>0.020994</td>\n",
       "      <td>0</td>\n",
       "      <td>0.056911</td>\n",
       "      <td>0</td>\n",
       "      <td>3</td>\n",
       "      <td>0.182609</td>\n",
       "      <td>0.594382</td>\n",
       "      <td>0.180723</td>\n",
       "      <td>0</td>\n",
       "      <td>0.000000</td>\n",
       "      <td>1</td>\n",
       "    </tr>\n",
       "    <tr>\n",
       "      <th>58643</th>\n",
       "      <td>0.019417</td>\n",
       "      <td>0.013609</td>\n",
       "      <td>0</td>\n",
       "      <td>0.016260</td>\n",
       "      <td>0</td>\n",
       "      <td>2</td>\n",
       "      <td>0.130435</td>\n",
       "      <td>0.195506</td>\n",
       "      <td>0.204819</td>\n",
       "      <td>0</td>\n",
       "      <td>0.035714</td>\n",
       "      <td>0</td>\n",
       "    </tr>\n",
       "    <tr>\n",
       "      <th>58644</th>\n",
       "      <td>0.106796</td>\n",
       "      <td>0.037346</td>\n",
       "      <td>2</td>\n",
       "      <td>0.016260</td>\n",
       "      <td>3</td>\n",
       "      <td>0</td>\n",
       "      <td>0.420290</td>\n",
       "      <td>0.319663</td>\n",
       "      <td>0.240964</td>\n",
       "      <td>0</td>\n",
       "      <td>0.107143</td>\n",
       "      <td>0</td>\n",
       "    </tr>\n",
       "  </tbody>\n",
       "</table>\n",
       "<p>58645 rows × 12 columns</p>\n",
       "</div>"
      ],
      "text/plain": [
       "       person_age  person_income  person_home_ownership  person_emp_length  \\\n",
       "0        0.165049       0.016246                      0           0.000000   \n",
       "1        0.019417       0.027324                      1           0.048780   \n",
       "2        0.087379       0.012976                      1           0.065041   \n",
       "3        0.097087       0.034708                      0           0.113821   \n",
       "4        0.019417       0.029433                      0           0.016260   \n",
       "...           ...            ...                    ...                ...   \n",
       "58640    0.135922       0.061082                      2           0.040650   \n",
       "58641    0.077670       0.012976                      0           0.000000   \n",
       "58642    0.029126       0.020994                      0           0.056911   \n",
       "58643    0.019417       0.013609                      0           0.016260   \n",
       "58644    0.106796       0.037346                      2           0.016260   \n",
       "\n",
       "       loan_intent  loan_grade  loan_amnt  loan_int_rate  loan_percent_income  \\\n",
       "0                0           0   0.159420       0.341011             0.204819   \n",
       "1                1           1   0.101449       0.445506             0.084337   \n",
       "2                2           2   0.159420       0.195506             0.253012   \n",
       "3                3           0   0.333333       0.319663             0.204819   \n",
       "4                1           2   0.159420       0.084270             0.120482   \n",
       "...            ...         ...        ...            ...                  ...   \n",
       "58640            0           3   0.710145       0.591573             0.253012   \n",
       "58641            1           1   0.275362       0.410674             0.421687   \n",
       "58642            0           3   0.182609       0.594382             0.180723   \n",
       "58643            0           2   0.130435       0.195506             0.204819   \n",
       "58644            3           0   0.420290       0.319663             0.240964   \n",
       "\n",
       "       cb_person_default_on_file  cb_person_cred_hist_length  loan_status  \n",
       "0                              0                    0.428571            0  \n",
       "1                              0                    0.000000            0  \n",
       "2                              0                    0.285714            0  \n",
       "3                              0                    0.107143            0  \n",
       "4                              0                    0.035714            0  \n",
       "...                          ...                         ...          ...  \n",
       "58640                          1                    0.285714            0  \n",
       "58641                          0                    0.214286            1  \n",
       "58642                          0                    0.000000            1  \n",
       "58643                          0                    0.035714            0  \n",
       "58644                          0                    0.107143            0  \n",
       "\n",
       "[58645 rows x 12 columns]"
      ]
     },
     "execution_count": 8,
     "metadata": {},
     "output_type": "execute_result"
    }
   ],
   "source": [
    "train_processed_df = pipeline.fit_transform(train_df)\n",
    "train_processed_df"
   ]
  },
  {
   "cell_type": "code",
   "execution_count": 9,
   "id": "0433bac7-b7b4-4ad9-a623-fba358b6cef0",
   "metadata": {},
   "outputs": [],
   "source": [
    "train_X = torch.tensor(train_processed_df.drop(columns=[\"loan_status\"]).values, dtype=torch.float32)\n",
    "train_y = torch.tensor(train_processed_df[\"loan_status\"].values, dtype=torch.int64)\n",
    "full_dataset = torch.utils.data.TensorDataset(train_X, train_y)\n",
    "n_train = int(len(full_dataset) * 0.8)\n",
    "n_val = int(len(full_dataset) * 0.1)\n",
    "n_test = len(full_dataset) - n_train - n_val\n",
    "train_dataset, val_dataset, test_dataset = torch.utils.data.random_split(full_dataset, [n_train, n_val, n_test])"
   ]
  },
  {
   "cell_type": "code",
   "execution_count": 10,
   "id": "157bcb93-d74e-4b97-9b13-53be2b1808b7",
   "metadata": {},
   "outputs": [],
   "source": [
    "class MyModel(lightning.LightningModule):\n",
    "    def __init__(self):\n",
    "        super().__init__()\n",
    "        self._stack = torch.nn.Sequential(\n",
    "            torch.nn.Linear(11, 32), torch.nn.ReLU(),\n",
    "            torch.nn.Linear(32, 2), torch.nn.Softmax(dim=1),\n",
    "        )\n",
    "        self._accuracy = torchmetrics.classification.BinaryAccuracy()\n",
    "\n",
    "    def forward(self, x):\n",
    "        return self._stack(x)\n",
    "\n",
    "    def configure_optimizers(self):\n",
    "        return torch.optim.Adam(self.parameters())\n",
    "\n",
    "    def training_step(self, batch, batch_idx):\n",
    "        (loss, acc) = self._compute(batch, batch_idx)\n",
    "        self.log(\"train_loss\", loss)\n",
    "        self.log(\"train_acc\", acc)\n",
    "        return loss\n",
    "\n",
    "    def validation_step(self, batch, batch_idx):\n",
    "        (loss, acc) = self._compute(batch, batch_idx)\n",
    "        self.log(\"val_loss\", loss)\n",
    "        self.log(\"val_acc\", acc)\n",
    "        return loss\n",
    "\n",
    "    def test_step(self, batch, batch_idx):\n",
    "        (loss, acc) = self._compute(batch, batch_idx)\n",
    "        self.log(\"test_loss\", loss)\n",
    "        self.log(\"test_acc\", acc)\n",
    "        return loss\n",
    "    \n",
    "    def _compute(self, batch, batch_idx):\n",
    "        x, y = batch\n",
    "        y_hat = self(x)\n",
    "        pred = y_hat.argmax(axis=1)\n",
    "        loss = torch.nn.functional.cross_entropy(y_hat, y)\n",
    "        acc = self._accuracy(pred, y)\n",
    "        return (loss, acc)"
   ]
  },
  {
   "cell_type": "code",
   "execution_count": 11,
   "id": "161247fc-e03f-4c45-85dc-c7e1f05d0d60",
   "metadata": {},
   "outputs": [],
   "source": [
    "class MyDataModule(lightning.LightningDataModule):\n",
    "    def train_dataloader(self):\n",
    "        return torch.utils.data.DataLoader(train_dataset, batch_size=512)\n",
    "\n",
    "    def val_dataloader(self):\n",
    "        return torch.utils.data.DataLoader(val_dataset, batch_size=512)\n",
    "\n",
    "    def test_dataloader(self):\n",
    "        return torch.utils.data.DataLoader(test_dataset)"
   ]
  },
  {
   "cell_type": "code",
   "execution_count": 12,
   "id": "0b24ebee-60c3-46b1-bc85-afb6e067606c",
   "metadata": {},
   "outputs": [
    {
     "name": "stderr",
     "output_type": "stream",
     "text": [
      "GPU available: False, used: False\n",
      "TPU available: False, using: 0 TPU cores\n",
      "HPU available: False, using: 0 HPUs\n",
      "\n",
      "  | Name      | Type           | Params | Mode \n",
      "-----------------------------------------------------\n",
      "0 | _stack    | Sequential     | 450    | train\n",
      "1 | _accuracy | BinaryAccuracy | 0      | train\n",
      "-----------------------------------------------------\n",
      "450       Trainable params\n",
      "0         Non-trainable params\n",
      "450       Total params\n",
      "0.002     Total estimated model params size (MB)\n",
      "6         Modules in train mode\n",
      "0         Modules in eval mode\n"
     ]
    },
    {
     "data": {
      "application/vnd.jupyter.widget-view+json": {
       "model_id": "",
       "version_major": 2,
       "version_minor": 0
      },
      "text/plain": [
       "Sanity Checking: |                                                                               | 0/? [00:00<…"
      ]
     },
     "metadata": {},
     "output_type": "display_data"
    },
    {
     "name": "stderr",
     "output_type": "stream",
     "text": [
      "C:\\Users\\hsmtk\\repo\\fantastic-octo-dollop\\.venv\\Lib\\site-packages\\lightning\\pytorch\\trainer\\connectors\\data_connector.py:424: The 'val_dataloader' does not have many workers which may be a bottleneck. Consider increasing the value of the `num_workers` argument` to `num_workers=11` in the `DataLoader` to improve performance.\n",
      "C:\\Users\\hsmtk\\repo\\fantastic-octo-dollop\\.venv\\Lib\\site-packages\\lightning\\pytorch\\trainer\\connectors\\data_connector.py:424: The 'train_dataloader' does not have many workers which may be a bottleneck. Consider increasing the value of the `num_workers` argument` to `num_workers=11` in the `DataLoader` to improve performance.\n"
     ]
    },
    {
     "data": {
      "application/vnd.jupyter.widget-view+json": {
       "model_id": "92cf13e7ac0e42a69be1d213e8c31d64",
       "version_major": 2,
       "version_minor": 0
      },
      "text/plain": [
       "Training: |                                                                                      | 0/? [00:00<…"
      ]
     },
     "metadata": {},
     "output_type": "display_data"
    },
    {
     "data": {
      "application/vnd.jupyter.widget-view+json": {
       "model_id": "",
       "version_major": 2,
       "version_minor": 0
      },
      "text/plain": [
       "Validation: |                                                                                    | 0/? [00:00<…"
      ]
     },
     "metadata": {},
     "output_type": "display_data"
    },
    {
     "data": {
      "application/vnd.jupyter.widget-view+json": {
       "model_id": "",
       "version_major": 2,
       "version_minor": 0
      },
      "text/plain": [
       "Validation: |                                                                                    | 0/? [00:00<…"
      ]
     },
     "metadata": {},
     "output_type": "display_data"
    },
    {
     "data": {
      "application/vnd.jupyter.widget-view+json": {
       "model_id": "",
       "version_major": 2,
       "version_minor": 0
      },
      "text/plain": [
       "Validation: |                                                                                    | 0/? [00:00<…"
      ]
     },
     "metadata": {},
     "output_type": "display_data"
    },
    {
     "data": {
      "application/vnd.jupyter.widget-view+json": {
       "model_id": "",
       "version_major": 2,
       "version_minor": 0
      },
      "text/plain": [
       "Validation: |                                                                                    | 0/? [00:00<…"
      ]
     },
     "metadata": {},
     "output_type": "display_data"
    },
    {
     "data": {
      "application/vnd.jupyter.widget-view+json": {
       "model_id": "",
       "version_major": 2,
       "version_minor": 0
      },
      "text/plain": [
       "Validation: |                                                                                    | 0/? [00:00<…"
      ]
     },
     "metadata": {},
     "output_type": "display_data"
    },
    {
     "data": {
      "application/vnd.jupyter.widget-view+json": {
       "model_id": "",
       "version_major": 2,
       "version_minor": 0
      },
      "text/plain": [
       "Validation: |                                                                                    | 0/? [00:00<…"
      ]
     },
     "metadata": {},
     "output_type": "display_data"
    },
    {
     "data": {
      "application/vnd.jupyter.widget-view+json": {
       "model_id": "",
       "version_major": 2,
       "version_minor": 0
      },
      "text/plain": [
       "Validation: |                                                                                    | 0/? [00:00<…"
      ]
     },
     "metadata": {},
     "output_type": "display_data"
    },
    {
     "data": {
      "application/vnd.jupyter.widget-view+json": {
       "model_id": "",
       "version_major": 2,
       "version_minor": 0
      },
      "text/plain": [
       "Validation: |                                                                                    | 0/? [00:00<…"
      ]
     },
     "metadata": {},
     "output_type": "display_data"
    },
    {
     "data": {
      "application/vnd.jupyter.widget-view+json": {
       "model_id": "",
       "version_major": 2,
       "version_minor": 0
      },
      "text/plain": [
       "Validation: |                                                                                    | 0/? [00:00<…"
      ]
     },
     "metadata": {},
     "output_type": "display_data"
    },
    {
     "data": {
      "application/vnd.jupyter.widget-view+json": {
       "model_id": "",
       "version_major": 2,
       "version_minor": 0
      },
      "text/plain": [
       "Validation: |                                                                                    | 0/? [00:00<…"
      ]
     },
     "metadata": {},
     "output_type": "display_data"
    },
    {
     "data": {
      "application/vnd.jupyter.widget-view+json": {
       "model_id": "",
       "version_major": 2,
       "version_minor": 0
      },
      "text/plain": [
       "Validation: |                                                                                    | 0/? [00:00<…"
      ]
     },
     "metadata": {},
     "output_type": "display_data"
    },
    {
     "data": {
      "application/vnd.jupyter.widget-view+json": {
       "model_id": "",
       "version_major": 2,
       "version_minor": 0
      },
      "text/plain": [
       "Validation: |                                                                                    | 0/? [00:00<…"
      ]
     },
     "metadata": {},
     "output_type": "display_data"
    },
    {
     "data": {
      "application/vnd.jupyter.widget-view+json": {
       "model_id": "",
       "version_major": 2,
       "version_minor": 0
      },
      "text/plain": [
       "Validation: |                                                                                    | 0/? [00:00<…"
      ]
     },
     "metadata": {},
     "output_type": "display_data"
    },
    {
     "data": {
      "application/vnd.jupyter.widget-view+json": {
       "model_id": "",
       "version_major": 2,
       "version_minor": 0
      },
      "text/plain": [
       "Validation: |                                                                                    | 0/? [00:00<…"
      ]
     },
     "metadata": {},
     "output_type": "display_data"
    },
    {
     "data": {
      "application/vnd.jupyter.widget-view+json": {
       "model_id": "",
       "version_major": 2,
       "version_minor": 0
      },
      "text/plain": [
       "Validation: |                                                                                    | 0/? [00:00<…"
      ]
     },
     "metadata": {},
     "output_type": "display_data"
    },
    {
     "data": {
      "application/vnd.jupyter.widget-view+json": {
       "model_id": "",
       "version_major": 2,
       "version_minor": 0
      },
      "text/plain": [
       "Validation: |                                                                                    | 0/? [00:00<…"
      ]
     },
     "metadata": {},
     "output_type": "display_data"
    },
    {
     "data": {
      "application/vnd.jupyter.widget-view+json": {
       "model_id": "",
       "version_major": 2,
       "version_minor": 0
      },
      "text/plain": [
       "Validation: |                                                                                    | 0/? [00:00<…"
      ]
     },
     "metadata": {},
     "output_type": "display_data"
    },
    {
     "data": {
      "application/vnd.jupyter.widget-view+json": {
       "model_id": "",
       "version_major": 2,
       "version_minor": 0
      },
      "text/plain": [
       "Validation: |                                                                                    | 0/? [00:00<…"
      ]
     },
     "metadata": {},
     "output_type": "display_data"
    },
    {
     "data": {
      "application/vnd.jupyter.widget-view+json": {
       "model_id": "",
       "version_major": 2,
       "version_minor": 0
      },
      "text/plain": [
       "Validation: |                                                                                    | 0/? [00:00<…"
      ]
     },
     "metadata": {},
     "output_type": "display_data"
    },
    {
     "data": {
      "application/vnd.jupyter.widget-view+json": {
       "model_id": "",
       "version_major": 2,
       "version_minor": 0
      },
      "text/plain": [
       "Validation: |                                                                                    | 0/? [00:00<…"
      ]
     },
     "metadata": {},
     "output_type": "display_data"
    },
    {
     "data": {
      "application/vnd.jupyter.widget-view+json": {
       "model_id": "",
       "version_major": 2,
       "version_minor": 0
      },
      "text/plain": [
       "Validation: |                                                                                    | 0/? [00:00<…"
      ]
     },
     "metadata": {},
     "output_type": "display_data"
    },
    {
     "data": {
      "application/vnd.jupyter.widget-view+json": {
       "model_id": "",
       "version_major": 2,
       "version_minor": 0
      },
      "text/plain": [
       "Validation: |                                                                                    | 0/? [00:00<…"
      ]
     },
     "metadata": {},
     "output_type": "display_data"
    },
    {
     "data": {
      "application/vnd.jupyter.widget-view+json": {
       "model_id": "",
       "version_major": 2,
       "version_minor": 0
      },
      "text/plain": [
       "Validation: |                                                                                    | 0/? [00:00<…"
      ]
     },
     "metadata": {},
     "output_type": "display_data"
    },
    {
     "data": {
      "application/vnd.jupyter.widget-view+json": {
       "model_id": "",
       "version_major": 2,
       "version_minor": 0
      },
      "text/plain": [
       "Validation: |                                                                                    | 0/? [00:00<…"
      ]
     },
     "metadata": {},
     "output_type": "display_data"
    },
    {
     "data": {
      "application/vnd.jupyter.widget-view+json": {
       "model_id": "",
       "version_major": 2,
       "version_minor": 0
      },
      "text/plain": [
       "Validation: |                                                                                    | 0/? [00:00<…"
      ]
     },
     "metadata": {},
     "output_type": "display_data"
    },
    {
     "data": {
      "application/vnd.jupyter.widget-view+json": {
       "model_id": "",
       "version_major": 2,
       "version_minor": 0
      },
      "text/plain": [
       "Validation: |                                                                                    | 0/? [00:00<…"
      ]
     },
     "metadata": {},
     "output_type": "display_data"
    },
    {
     "data": {
      "application/vnd.jupyter.widget-view+json": {
       "model_id": "",
       "version_major": 2,
       "version_minor": 0
      },
      "text/plain": [
       "Validation: |                                                                                    | 0/? [00:00<…"
      ]
     },
     "metadata": {},
     "output_type": "display_data"
    },
    {
     "data": {
      "application/vnd.jupyter.widget-view+json": {
       "model_id": "",
       "version_major": 2,
       "version_minor": 0
      },
      "text/plain": [
       "Validation: |                                                                                    | 0/? [00:00<…"
      ]
     },
     "metadata": {},
     "output_type": "display_data"
    },
    {
     "data": {
      "application/vnd.jupyter.widget-view+json": {
       "model_id": "",
       "version_major": 2,
       "version_minor": 0
      },
      "text/plain": [
       "Validation: |                                                                                    | 0/? [00:00<…"
      ]
     },
     "metadata": {},
     "output_type": "display_data"
    },
    {
     "data": {
      "application/vnd.jupyter.widget-view+json": {
       "model_id": "",
       "version_major": 2,
       "version_minor": 0
      },
      "text/plain": [
       "Validation: |                                                                                    | 0/? [00:00<…"
      ]
     },
     "metadata": {},
     "output_type": "display_data"
    },
    {
     "data": {
      "application/vnd.jupyter.widget-view+json": {
       "model_id": "",
       "version_major": 2,
       "version_minor": 0
      },
      "text/plain": [
       "Validation: |                                                                                    | 0/? [00:00<…"
      ]
     },
     "metadata": {},
     "output_type": "display_data"
    },
    {
     "data": {
      "application/vnd.jupyter.widget-view+json": {
       "model_id": "",
       "version_major": 2,
       "version_minor": 0
      },
      "text/plain": [
       "Validation: |                                                                                    | 0/? [00:00<…"
      ]
     },
     "metadata": {},
     "output_type": "display_data"
    },
    {
     "data": {
      "application/vnd.jupyter.widget-view+json": {
       "model_id": "",
       "version_major": 2,
       "version_minor": 0
      },
      "text/plain": [
       "Validation: |                                                                                    | 0/? [00:00<…"
      ]
     },
     "metadata": {},
     "output_type": "display_data"
    },
    {
     "data": {
      "application/vnd.jupyter.widget-view+json": {
       "model_id": "",
       "version_major": 2,
       "version_minor": 0
      },
      "text/plain": [
       "Validation: |                                                                                    | 0/? [00:00<…"
      ]
     },
     "metadata": {},
     "output_type": "display_data"
    },
    {
     "data": {
      "application/vnd.jupyter.widget-view+json": {
       "model_id": "",
       "version_major": 2,
       "version_minor": 0
      },
      "text/plain": [
       "Validation: |                                                                                    | 0/? [00:00<…"
      ]
     },
     "metadata": {},
     "output_type": "display_data"
    },
    {
     "data": {
      "application/vnd.jupyter.widget-view+json": {
       "model_id": "",
       "version_major": 2,
       "version_minor": 0
      },
      "text/plain": [
       "Validation: |                                                                                    | 0/? [00:00<…"
      ]
     },
     "metadata": {},
     "output_type": "display_data"
    },
    {
     "data": {
      "application/vnd.jupyter.widget-view+json": {
       "model_id": "",
       "version_major": 2,
       "version_minor": 0
      },
      "text/plain": [
       "Validation: |                                                                                    | 0/? [00:00<…"
      ]
     },
     "metadata": {},
     "output_type": "display_data"
    },
    {
     "data": {
      "application/vnd.jupyter.widget-view+json": {
       "model_id": "",
       "version_major": 2,
       "version_minor": 0
      },
      "text/plain": [
       "Validation: |                                                                                    | 0/? [00:00<…"
      ]
     },
     "metadata": {},
     "output_type": "display_data"
    },
    {
     "data": {
      "application/vnd.jupyter.widget-view+json": {
       "model_id": "",
       "version_major": 2,
       "version_minor": 0
      },
      "text/plain": [
       "Validation: |                                                                                    | 0/? [00:00<…"
      ]
     },
     "metadata": {},
     "output_type": "display_data"
    },
    {
     "data": {
      "application/vnd.jupyter.widget-view+json": {
       "model_id": "",
       "version_major": 2,
       "version_minor": 0
      },
      "text/plain": [
       "Validation: |                                                                                    | 0/? [00:00<…"
      ]
     },
     "metadata": {},
     "output_type": "display_data"
    },
    {
     "data": {
      "application/vnd.jupyter.widget-view+json": {
       "model_id": "",
       "version_major": 2,
       "version_minor": 0
      },
      "text/plain": [
       "Validation: |                                                                                    | 0/? [00:00<…"
      ]
     },
     "metadata": {},
     "output_type": "display_data"
    },
    {
     "data": {
      "application/vnd.jupyter.widget-view+json": {
       "model_id": "",
       "version_major": 2,
       "version_minor": 0
      },
      "text/plain": [
       "Validation: |                                                                                    | 0/? [00:00<…"
      ]
     },
     "metadata": {},
     "output_type": "display_data"
    },
    {
     "data": {
      "application/vnd.jupyter.widget-view+json": {
       "model_id": "",
       "version_major": 2,
       "version_minor": 0
      },
      "text/plain": [
       "Validation: |                                                                                    | 0/? [00:00<…"
      ]
     },
     "metadata": {},
     "output_type": "display_data"
    },
    {
     "data": {
      "application/vnd.jupyter.widget-view+json": {
       "model_id": "",
       "version_major": 2,
       "version_minor": 0
      },
      "text/plain": [
       "Validation: |                                                                                    | 0/? [00:00<…"
      ]
     },
     "metadata": {},
     "output_type": "display_data"
    },
    {
     "data": {
      "application/vnd.jupyter.widget-view+json": {
       "model_id": "",
       "version_major": 2,
       "version_minor": 0
      },
      "text/plain": [
       "Validation: |                                                                                    | 0/? [00:00<…"
      ]
     },
     "metadata": {},
     "output_type": "display_data"
    },
    {
     "data": {
      "application/vnd.jupyter.widget-view+json": {
       "model_id": "",
       "version_major": 2,
       "version_minor": 0
      },
      "text/plain": [
       "Validation: |                                                                                    | 0/? [00:00<…"
      ]
     },
     "metadata": {},
     "output_type": "display_data"
    },
    {
     "data": {
      "application/vnd.jupyter.widget-view+json": {
       "model_id": "d875caec2a6e451aac3670b64fded4d7",
       "version_major": 2,
       "version_minor": 0
      },
      "text/plain": [
       "Validation: |                                                                                    | 0/? [00:00<…"
      ]
     },
     "metadata": {},
     "output_type": "display_data"
    },
    {
     "data": {
      "application/vnd.jupyter.widget-view+json": {
       "model_id": "f8fb196c7c6a4bd6b2ee02c0a77faecd",
       "version_major": 2,
       "version_minor": 0
      },
      "text/plain": [
       "Validation: |                                                                                    | 0/? [00:00<…"
      ]
     },
     "metadata": {},
     "output_type": "display_data"
    },
    {
     "data": {
      "application/vnd.jupyter.widget-view+json": {
       "model_id": "e7b5275c82d34b84989ce111225c19d4",
       "version_major": 2,
       "version_minor": 0
      },
      "text/plain": [
       "Validation: |                                                                                    | 0/? [00:00<…"
      ]
     },
     "metadata": {},
     "output_type": "display_data"
    },
    {
     "data": {
      "application/vnd.jupyter.widget-view+json": {
       "model_id": "c2abcc537543457bb7be75f7a88cd611",
       "version_major": 2,
       "version_minor": 0
      },
      "text/plain": [
       "Validation: |                                                                                    | 0/? [00:00<…"
      ]
     },
     "metadata": {},
     "output_type": "display_data"
    },
    {
     "data": {
      "application/vnd.jupyter.widget-view+json": {
       "model_id": "56df75e048b84a6391ba1f90e8ef044d",
       "version_major": 2,
       "version_minor": 0
      },
      "text/plain": [
       "Validation: |                                                                                    | 0/? [00:00<…"
      ]
     },
     "metadata": {},
     "output_type": "display_data"
    },
    {
     "data": {
      "application/vnd.jupyter.widget-view+json": {
       "model_id": "7545cfd7738847cd943884dceb25b18d",
       "version_major": 2,
       "version_minor": 0
      },
      "text/plain": [
       "Validation: |                                                                                    | 0/? [00:00<…"
      ]
     },
     "metadata": {},
     "output_type": "display_data"
    },
    {
     "data": {
      "application/vnd.jupyter.widget-view+json": {
       "model_id": "a3d6c80f345e4fdf90f095d17993e22f",
       "version_major": 2,
       "version_minor": 0
      },
      "text/plain": [
       "Validation: |                                                                                    | 0/? [00:00<…"
      ]
     },
     "metadata": {},
     "output_type": "display_data"
    },
    {
     "data": {
      "application/vnd.jupyter.widget-view+json": {
       "model_id": "7fd827a61cc146db9e5407d731e4cf31",
       "version_major": 2,
       "version_minor": 0
      },
      "text/plain": [
       "Validation: |                                                                                    | 0/? [00:00<…"
      ]
     },
     "metadata": {},
     "output_type": "display_data"
    },
    {
     "data": {
      "application/vnd.jupyter.widget-view+json": {
       "model_id": "8eefead397f14599bc4fc3f2366c5197",
       "version_major": 2,
       "version_minor": 0
      },
      "text/plain": [
       "Validation: |                                                                                    | 0/? [00:00<…"
      ]
     },
     "metadata": {},
     "output_type": "display_data"
    },
    {
     "data": {
      "application/vnd.jupyter.widget-view+json": {
       "model_id": "7755c09a6cee4e4abb2031a904371a5e",
       "version_major": 2,
       "version_minor": 0
      },
      "text/plain": [
       "Validation: |                                                                                    | 0/? [00:00<…"
      ]
     },
     "metadata": {},
     "output_type": "display_data"
    },
    {
     "data": {
      "application/vnd.jupyter.widget-view+json": {
       "model_id": "a0eef486d3e241448de0fd944ca279bb",
       "version_major": 2,
       "version_minor": 0
      },
      "text/plain": [
       "Validation: |                                                                                    | 0/? [00:00<…"
      ]
     },
     "metadata": {},
     "output_type": "display_data"
    },
    {
     "data": {
      "application/vnd.jupyter.widget-view+json": {
       "model_id": "8574b35063524dba81304213fd601cfa",
       "version_major": 2,
       "version_minor": 0
      },
      "text/plain": [
       "Validation: |                                                                                    | 0/? [00:00<…"
      ]
     },
     "metadata": {},
     "output_type": "display_data"
    },
    {
     "data": {
      "application/vnd.jupyter.widget-view+json": {
       "model_id": "caf42f7b48854432b0af9a154aa3fdc7",
       "version_major": 2,
       "version_minor": 0
      },
      "text/plain": [
       "Validation: |                                                                                    | 0/? [00:00<…"
      ]
     },
     "metadata": {},
     "output_type": "display_data"
    },
    {
     "data": {
      "application/vnd.jupyter.widget-view+json": {
       "model_id": "4e41e7576d914507a5a0e30f202ad198",
       "version_major": 2,
       "version_minor": 0
      },
      "text/plain": [
       "Validation: |                                                                                    | 0/? [00:00<…"
      ]
     },
     "metadata": {},
     "output_type": "display_data"
    },
    {
     "data": {
      "application/vnd.jupyter.widget-view+json": {
       "model_id": "7a4200f8467d405e9ea7f142e84f66f3",
       "version_major": 2,
       "version_minor": 0
      },
      "text/plain": [
       "Validation: |                                                                                    | 0/? [00:00<…"
      ]
     },
     "metadata": {},
     "output_type": "display_data"
    },
    {
     "data": {
      "application/vnd.jupyter.widget-view+json": {
       "model_id": "214d6311769f4f939b9369e3bb6e880f",
       "version_major": 2,
       "version_minor": 0
      },
      "text/plain": [
       "Validation: |                                                                                    | 0/? [00:00<…"
      ]
     },
     "metadata": {},
     "output_type": "display_data"
    },
    {
     "data": {
      "application/vnd.jupyter.widget-view+json": {
       "model_id": "1e55be81403a433ab640ab580303898f",
       "version_major": 2,
       "version_minor": 0
      },
      "text/plain": [
       "Validation: |                                                                                    | 0/? [00:00<…"
      ]
     },
     "metadata": {},
     "output_type": "display_data"
    },
    {
     "data": {
      "application/vnd.jupyter.widget-view+json": {
       "model_id": "093667dd938947018290dd296ffb82bd",
       "version_major": 2,
       "version_minor": 0
      },
      "text/plain": [
       "Validation: |                                                                                    | 0/? [00:00<…"
      ]
     },
     "metadata": {},
     "output_type": "display_data"
    },
    {
     "data": {
      "application/vnd.jupyter.widget-view+json": {
       "model_id": "0f77dd0b056046b194fd62e5399f7d59",
       "version_major": 2,
       "version_minor": 0
      },
      "text/plain": [
       "Validation: |                                                                                    | 0/? [00:00<…"
      ]
     },
     "metadata": {},
     "output_type": "display_data"
    },
    {
     "data": {
      "application/vnd.jupyter.widget-view+json": {
       "model_id": "6c961232799046a6a83a67a2e5f1d829",
       "version_major": 2,
       "version_minor": 0
      },
      "text/plain": [
       "Validation: |                                                                                    | 0/? [00:00<…"
      ]
     },
     "metadata": {},
     "output_type": "display_data"
    },
    {
     "data": {
      "application/vnd.jupyter.widget-view+json": {
       "model_id": "f42d6d4fb32c4d91882fb484daf42197",
       "version_major": 2,
       "version_minor": 0
      },
      "text/plain": [
       "Validation: |                                                                                    | 0/? [00:00<…"
      ]
     },
     "metadata": {},
     "output_type": "display_data"
    },
    {
     "data": {
      "application/vnd.jupyter.widget-view+json": {
       "model_id": "73bc8a9509dd42f1b6f3cff9399f04d8",
       "version_major": 2,
       "version_minor": 0
      },
      "text/plain": [
       "Validation: |                                                                                    | 0/? [00:00<…"
      ]
     },
     "metadata": {},
     "output_type": "display_data"
    },
    {
     "data": {
      "application/vnd.jupyter.widget-view+json": {
       "model_id": "a5da4baa01504e419536e80f611ca5eb",
       "version_major": 2,
       "version_minor": 0
      },
      "text/plain": [
       "Validation: |                                                                                    | 0/? [00:00<…"
      ]
     },
     "metadata": {},
     "output_type": "display_data"
    },
    {
     "data": {
      "application/vnd.jupyter.widget-view+json": {
       "model_id": "0b6ae2e7f0fa47049fead7012c88f226",
       "version_major": 2,
       "version_minor": 0
      },
      "text/plain": [
       "Validation: |                                                                                    | 0/? [00:00<…"
      ]
     },
     "metadata": {},
     "output_type": "display_data"
    },
    {
     "data": {
      "application/vnd.jupyter.widget-view+json": {
       "model_id": "4bf96f6eacdf44d2840d34391d66f6a1",
       "version_major": 2,
       "version_minor": 0
      },
      "text/plain": [
       "Validation: |                                                                                    | 0/? [00:00<…"
      ]
     },
     "metadata": {},
     "output_type": "display_data"
    },
    {
     "data": {
      "application/vnd.jupyter.widget-view+json": {
       "model_id": "922acdd55c8841d48148b2bf59fe892b",
       "version_major": 2,
       "version_minor": 0
      },
      "text/plain": [
       "Validation: |                                                                                    | 0/? [00:00<…"
      ]
     },
     "metadata": {},
     "output_type": "display_data"
    },
    {
     "data": {
      "application/vnd.jupyter.widget-view+json": {
       "model_id": "d63f37544a274eecb6c715f1d71249ae",
       "version_major": 2,
       "version_minor": 0
      },
      "text/plain": [
       "Validation: |                                                                                    | 0/? [00:00<…"
      ]
     },
     "metadata": {},
     "output_type": "display_data"
    },
    {
     "data": {
      "application/vnd.jupyter.widget-view+json": {
       "model_id": "3e397fea685343d6be68074c2725db33",
       "version_major": 2,
       "version_minor": 0
      },
      "text/plain": [
       "Validation: |                                                                                    | 0/? [00:00<…"
      ]
     },
     "metadata": {},
     "output_type": "display_data"
    },
    {
     "data": {
      "application/vnd.jupyter.widget-view+json": {
       "model_id": "cf1cd4061c0842278aa06337f986a177",
       "version_major": 2,
       "version_minor": 0
      },
      "text/plain": [
       "Validation: |                                                                                    | 0/? [00:00<…"
      ]
     },
     "metadata": {},
     "output_type": "display_data"
    },
    {
     "data": {
      "application/vnd.jupyter.widget-view+json": {
       "model_id": "b516e2db0d5b42358be03dba6aea4399",
       "version_major": 2,
       "version_minor": 0
      },
      "text/plain": [
       "Validation: |                                                                                    | 0/? [00:00<…"
      ]
     },
     "metadata": {},
     "output_type": "display_data"
    },
    {
     "data": {
      "application/vnd.jupyter.widget-view+json": {
       "model_id": "1c2d52cc137f4161bbf871f30154e294",
       "version_major": 2,
       "version_minor": 0
      },
      "text/plain": [
       "Validation: |                                                                                    | 0/? [00:00<…"
      ]
     },
     "metadata": {},
     "output_type": "display_data"
    },
    {
     "data": {
      "application/vnd.jupyter.widget-view+json": {
       "model_id": "9e896e45b0d540c1b624742cc9fb57f4",
       "version_major": 2,
       "version_minor": 0
      },
      "text/plain": [
       "Validation: |                                                                                    | 0/? [00:00<…"
      ]
     },
     "metadata": {},
     "output_type": "display_data"
    },
    {
     "data": {
      "application/vnd.jupyter.widget-view+json": {
       "model_id": "71739475c9e64189b88ca8ca58d9878c",
       "version_major": 2,
       "version_minor": 0
      },
      "text/plain": [
       "Validation: |                                                                                    | 0/? [00:00<…"
      ]
     },
     "metadata": {},
     "output_type": "display_data"
    },
    {
     "data": {
      "application/vnd.jupyter.widget-view+json": {
       "model_id": "8bae848a80e5479f9014fd708c6b2a8d",
       "version_major": 2,
       "version_minor": 0
      },
      "text/plain": [
       "Validation: |                                                                                    | 0/? [00:00<…"
      ]
     },
     "metadata": {},
     "output_type": "display_data"
    },
    {
     "data": {
      "application/vnd.jupyter.widget-view+json": {
       "model_id": "77dc90e006674c94ac2bc0282863c2b2",
       "version_major": 2,
       "version_minor": 0
      },
      "text/plain": [
       "Validation: |                                                                                    | 0/? [00:00<…"
      ]
     },
     "metadata": {},
     "output_type": "display_data"
    },
    {
     "data": {
      "application/vnd.jupyter.widget-view+json": {
       "model_id": "42abe3eb80c14c5aa453bf73f4a1bc2f",
       "version_major": 2,
       "version_minor": 0
      },
      "text/plain": [
       "Validation: |                                                                                    | 0/? [00:00<…"
      ]
     },
     "metadata": {},
     "output_type": "display_data"
    },
    {
     "data": {
      "application/vnd.jupyter.widget-view+json": {
       "model_id": "6cafa3011fc842dcb7cabd09441e8633",
       "version_major": 2,
       "version_minor": 0
      },
      "text/plain": [
       "Validation: |                                                                                    | 0/? [00:00<…"
      ]
     },
     "metadata": {},
     "output_type": "display_data"
    },
    {
     "data": {
      "application/vnd.jupyter.widget-view+json": {
       "model_id": "1c67f98a315a4f0bacf933faf0b8a86b",
       "version_major": 2,
       "version_minor": 0
      },
      "text/plain": [
       "Validation: |                                                                                    | 0/? [00:00<…"
      ]
     },
     "metadata": {},
     "output_type": "display_data"
    },
    {
     "data": {
      "application/vnd.jupyter.widget-view+json": {
       "model_id": "1e47dc6090f745468f8e287524224b3b",
       "version_major": 2,
       "version_minor": 0
      },
      "text/plain": [
       "Validation: |                                                                                    | 0/? [00:00<…"
      ]
     },
     "metadata": {},
     "output_type": "display_data"
    },
    {
     "data": {
      "application/vnd.jupyter.widget-view+json": {
       "model_id": "f0a96de47f8141e79b1c0d801b69192c",
       "version_major": 2,
       "version_minor": 0
      },
      "text/plain": [
       "Validation: |                                                                                    | 0/? [00:00<…"
      ]
     },
     "metadata": {},
     "output_type": "display_data"
    },
    {
     "data": {
      "application/vnd.jupyter.widget-view+json": {
       "model_id": "8f620dcdaee34ff38dcb332d41933abc",
       "version_major": 2,
       "version_minor": 0
      },
      "text/plain": [
       "Validation: |                                                                                    | 0/? [00:00<…"
      ]
     },
     "metadata": {},
     "output_type": "display_data"
    },
    {
     "data": {
      "application/vnd.jupyter.widget-view+json": {
       "model_id": "52caafb355964db88cd37a8d88c5d361",
       "version_major": 2,
       "version_minor": 0
      },
      "text/plain": [
       "Validation: |                                                                                    | 0/? [00:00<…"
      ]
     },
     "metadata": {},
     "output_type": "display_data"
    },
    {
     "data": {
      "application/vnd.jupyter.widget-view+json": {
       "model_id": "33e5f85ee516499fa6e7956821db6a2c",
       "version_major": 2,
       "version_minor": 0
      },
      "text/plain": [
       "Validation: |                                                                                    | 0/? [00:00<…"
      ]
     },
     "metadata": {},
     "output_type": "display_data"
    },
    {
     "data": {
      "application/vnd.jupyter.widget-view+json": {
       "model_id": "ca2b1f8e626847daa80c991a0ff56ee0",
       "version_major": 2,
       "version_minor": 0
      },
      "text/plain": [
       "Validation: |                                                                                    | 0/? [00:00<…"
      ]
     },
     "metadata": {},
     "output_type": "display_data"
    },
    {
     "data": {
      "application/vnd.jupyter.widget-view+json": {
       "model_id": "b48b9dbf560743079e210bd364c94f98",
       "version_major": 2,
       "version_minor": 0
      },
      "text/plain": [
       "Validation: |                                                                                    | 0/? [00:00<…"
      ]
     },
     "metadata": {},
     "output_type": "display_data"
    }
   ],
   "source": [
    "trainer = lightning.Trainer(max_epochs=500, callbacks=[lightning.pytorch.callbacks.early_stopping.EarlyStopping(monitor=\"val_loss\", mode=\"min\")])\n",
    "model = MyModel()\n",
    "loader = MyDataModule()\n",
    "trainer.fit(model, datamodule=loader)"
   ]
  },
  {
   "cell_type": "code",
   "execution_count": 13,
   "id": "588e1051-afa7-4e21-b52e-5e48c8330f1c",
   "metadata": {},
   "outputs": [
    {
     "name": "stderr",
     "output_type": "stream",
     "text": [
      "C:\\Users\\hsmtk\\repo\\fantastic-octo-dollop\\.venv\\Lib\\site-packages\\lightning\\pytorch\\trainer\\connectors\\checkpoint_connector.py:145: `.test(ckpt_path=None)` was called without a model. The best model of the previous `fit` call will be used. You can pass `.test(ckpt_path='best')` to use the best model or `.test(ckpt_path='last')` to use the last model. If you pass a value, this warning will be silenced.\n",
      "Restoring states from the checkpoint path at C:\\Users\\hsmtk\\repo\\fantastic-octo-dollop\\loan-approval\\lightning_logs\\version_0\\checkpoints\\epoch=90-step=8372.ckpt\n",
      "Loaded model weights from the checkpoint at C:\\Users\\hsmtk\\repo\\fantastic-octo-dollop\\loan-approval\\lightning_logs\\version_0\\checkpoints\\epoch=90-step=8372.ckpt\n",
      "C:\\Users\\hsmtk\\repo\\fantastic-octo-dollop\\.venv\\Lib\\site-packages\\lightning\\pytorch\\trainer\\connectors\\data_connector.py:424: The 'test_dataloader' does not have many workers which may be a bottleneck. Consider increasing the value of the `num_workers` argument` to `num_workers=11` in the `DataLoader` to improve performance.\n"
     ]
    },
    {
     "data": {
      "application/vnd.jupyter.widget-view+json": {
       "model_id": "9b05f8d84fb64088a6ac2ea1fb9c3008",
       "version_major": 2,
       "version_minor": 0
      },
      "text/plain": [
       "Testing: |                                                                                       | 0/? [00:00<…"
      ]
     },
     "metadata": {},
     "output_type": "display_data"
    },
    {
     "name": "stdout",
     "output_type": "stream",
     "text": [
      "────────────────────────────────────────────────────────────────────────────────────────────────────────────────────────\n",
      "       Test metric             DataLoader 0\n",
      "────────────────────────────────────────────────────────────────────────────────────────────────────────────────────────\n",
      "        test_acc             0.853878915309906\n",
      "        test_loss           0.4593595862388611\n",
      "────────────────────────────────────────────────────────────────────────────────────────────────────────────────────────\n"
     ]
    },
    {
     "data": {
      "text/plain": [
       "[{'test_loss': 0.4593595862388611, 'test_acc': 0.853878915309906}]"
      ]
     },
     "execution_count": 13,
     "metadata": {},
     "output_type": "execute_result"
    }
   ],
   "source": [
    "trainer.test(datamodule=loader)"
   ]
  },
  {
   "cell_type": "code",
   "execution_count": 14,
   "id": "3225e21d-e6d5-428b-a955-b9e43a2c8ca5",
   "metadata": {},
   "outputs": [
    {
     "name": "stderr",
     "output_type": "stream",
     "text": [
      "ERROR: The process \"tensorboard.exe\" not found.\n"
     ]
    },
    {
     "data": {
      "text/html": [
       "\n",
       "      <iframe id=\"tensorboard-frame-629f6fbed82c07cd\" width=\"100%\" height=\"800\" frameborder=\"0\">\n",
       "      </iframe>\n",
       "      <script>\n",
       "        (function() {\n",
       "          const frame = document.getElementById(\"tensorboard-frame-629f6fbed82c07cd\");\n",
       "          const url = new URL(\"/\", window.location);\n",
       "          const port = 6006;\n",
       "          if (port) {\n",
       "            url.port = port;\n",
       "          }\n",
       "          frame.src = url;\n",
       "        })();\n",
       "      </script>\n",
       "    "
      ],
      "text/plain": [
       "<IPython.core.display.HTML object>"
      ]
     },
     "metadata": {},
     "output_type": "display_data"
    }
   ],
   "source": [
    "!taskkill /im tensorboard.exe /f\n",
    "!del /q %TMP%\\.tensorboard-info\\*\n",
    "%reload_ext tensorboard\n",
    "%tensorboard --logdir=lightning_logs/"
   ]
  },
  {
   "cell_type": "code",
   "execution_count": 15,
   "id": "d9fe96bf-b334-4258-90ee-a3599f128175",
   "metadata": {},
   "outputs": [],
   "source": [
    "test_df = pandas.read_csv(\"test.csv\")"
   ]
  },
  {
   "cell_type": "code",
   "execution_count": 22,
   "id": "7ae5affd-ba0f-48e4-bfc5-7830cbe8a8e7",
   "metadata": {},
   "outputs": [
    {
     "data": {
      "text/html": [
       "<div>\n",
       "<style scoped>\n",
       "    .dataframe tbody tr th:only-of-type {\n",
       "        vertical-align: middle;\n",
       "    }\n",
       "\n",
       "    .dataframe tbody tr th {\n",
       "        vertical-align: top;\n",
       "    }\n",
       "\n",
       "    .dataframe thead th {\n",
       "        text-align: right;\n",
       "    }\n",
       "</style>\n",
       "<table border=\"1\" class=\"dataframe\">\n",
       "  <thead>\n",
       "    <tr style=\"text-align: right;\">\n",
       "      <th></th>\n",
       "      <th>person_age</th>\n",
       "      <th>person_income</th>\n",
       "      <th>person_home_ownership</th>\n",
       "      <th>person_emp_length</th>\n",
       "      <th>loan_intent</th>\n",
       "      <th>loan_grade</th>\n",
       "      <th>loan_amnt</th>\n",
       "      <th>loan_int_rate</th>\n",
       "      <th>loan_percent_income</th>\n",
       "      <th>cb_person_default_on_file</th>\n",
       "      <th>cb_person_cred_hist_length</th>\n",
       "    </tr>\n",
       "  </thead>\n",
       "  <tbody>\n",
       "    <tr>\n",
       "      <th>0</th>\n",
       "      <td>0.029126</td>\n",
       "      <td>0.034181</td>\n",
       "      <td>0</td>\n",
       "      <td>0.024390</td>\n",
       "      <td>5</td>\n",
       "      <td>5</td>\n",
       "      <td>0.710145</td>\n",
       "      <td>0.580899</td>\n",
       "      <td>0.433735</td>\n",
       "      <td>0</td>\n",
       "      <td>0.000000</td>\n",
       "    </tr>\n",
       "    <tr>\n",
       "      <th>1</th>\n",
       "      <td>0.058252</td>\n",
       "      <td>0.048423</td>\n",
       "      <td>2</td>\n",
       "      <td>0.048780</td>\n",
       "      <td>2</td>\n",
       "      <td>1</td>\n",
       "      <td>0.275362</td>\n",
       "      <td>0.407865</td>\n",
       "      <td>0.120482</td>\n",
       "      <td>1</td>\n",
       "      <td>0.071429</td>\n",
       "    </tr>\n",
       "    <tr>\n",
       "      <th>2</th>\n",
       "      <td>0.058252</td>\n",
       "      <td>0.013609</td>\n",
       "      <td>0</td>\n",
       "      <td>0.040650</td>\n",
       "      <td>3</td>\n",
       "      <td>4</td>\n",
       "      <td>0.101449</td>\n",
       "      <td>0.661236</td>\n",
       "      <td>0.156627</td>\n",
       "      <td>1</td>\n",
       "      <td>0.000000</td>\n",
       "    </tr>\n",
       "    <tr>\n",
       "      <th>3</th>\n",
       "      <td>0.126214</td>\n",
       "      <td>0.024159</td>\n",
       "      <td>0</td>\n",
       "      <td>0.032520</td>\n",
       "      <td>4</td>\n",
       "      <td>2</td>\n",
       "      <td>0.188406</td>\n",
       "      <td>0.195506</td>\n",
       "      <td>0.168675</td>\n",
       "      <td>0</td>\n",
       "      <td>0.178571</td>\n",
       "    </tr>\n",
       "    <tr>\n",
       "      <th>4</th>\n",
       "      <td>0.058252</td>\n",
       "      <td>0.051588</td>\n",
       "      <td>2</td>\n",
       "      <td>0.065041</td>\n",
       "      <td>5</td>\n",
       "      <td>3</td>\n",
       "      <td>0.420290</td>\n",
       "      <td>0.612360</td>\n",
       "      <td>0.180723</td>\n",
       "      <td>1</td>\n",
       "      <td>0.071429</td>\n",
       "    </tr>\n",
       "    <tr>\n",
       "      <th>...</th>\n",
       "      <td>...</td>\n",
       "      <td>...</td>\n",
       "      <td>...</td>\n",
       "      <td>...</td>\n",
       "      <td>...</td>\n",
       "      <td>...</td>\n",
       "      <td>...</td>\n",
       "      <td>...</td>\n",
       "      <td>...</td>\n",
       "      <td>...</td>\n",
       "      <td>...</td>\n",
       "    </tr>\n",
       "    <tr>\n",
       "      <th>39093</th>\n",
       "      <td>0.019417</td>\n",
       "      <td>0.014242</td>\n",
       "      <td>2</td>\n",
       "      <td>0.016260</td>\n",
       "      <td>4</td>\n",
       "      <td>0</td>\n",
       "      <td>0.072464</td>\n",
       "      <td>0.278090</td>\n",
       "      <td>0.120482</td>\n",
       "      <td>0</td>\n",
       "      <td>0.071429</td>\n",
       "    </tr>\n",
       "    <tr>\n",
       "      <th>39094</th>\n",
       "      <td>0.019417</td>\n",
       "      <td>0.023104</td>\n",
       "      <td>2</td>\n",
       "      <td>0.048780</td>\n",
       "      <td>0</td>\n",
       "      <td>2</td>\n",
       "      <td>0.188406</td>\n",
       "      <td>0.034270</td>\n",
       "      <td>0.180723</td>\n",
       "      <td>0</td>\n",
       "      <td>0.035714</td>\n",
       "    </tr>\n",
       "    <tr>\n",
       "      <th>39095</th>\n",
       "      <td>0.300971</td>\n",
       "      <td>0.029433</td>\n",
       "      <td>2</td>\n",
       "      <td>0.000000</td>\n",
       "      <td>2</td>\n",
       "      <td>2</td>\n",
       "      <td>0.420290</td>\n",
       "      <td>0.117416</td>\n",
       "      <td>0.301205</td>\n",
       "      <td>0</td>\n",
       "      <td>0.821429</td>\n",
       "    </tr>\n",
       "    <tr>\n",
       "      <th>39096</th>\n",
       "      <td>0.019417</td>\n",
       "      <td>0.016774</td>\n",
       "      <td>2</td>\n",
       "      <td>0.032520</td>\n",
       "      <td>2</td>\n",
       "      <td>3</td>\n",
       "      <td>0.391304</td>\n",
       "      <td>0.573034</td>\n",
       "      <td>0.469880</td>\n",
       "      <td>1</td>\n",
       "      <td>0.071429</td>\n",
       "    </tr>\n",
       "    <tr>\n",
       "      <th>39097</th>\n",
       "      <td>0.106796</td>\n",
       "      <td>0.021521</td>\n",
       "      <td>0</td>\n",
       "      <td>0.048780</td>\n",
       "      <td>4</td>\n",
       "      <td>0</td>\n",
       "      <td>0.549275</td>\n",
       "      <td>0.252247</td>\n",
       "      <td>0.530120</td>\n",
       "      <td>0</td>\n",
       "      <td>0.250000</td>\n",
       "    </tr>\n",
       "  </tbody>\n",
       "</table>\n",
       "<p>39098 rows × 11 columns</p>\n",
       "</div>"
      ],
      "text/plain": [
       "       person_age  person_income  person_home_ownership  person_emp_length  \\\n",
       "0        0.029126       0.034181                      0           0.024390   \n",
       "1        0.058252       0.048423                      2           0.048780   \n",
       "2        0.058252       0.013609                      0           0.040650   \n",
       "3        0.126214       0.024159                      0           0.032520   \n",
       "4        0.058252       0.051588                      2           0.065041   \n",
       "...           ...            ...                    ...                ...   \n",
       "39093    0.019417       0.014242                      2           0.016260   \n",
       "39094    0.019417       0.023104                      2           0.048780   \n",
       "39095    0.300971       0.029433                      2           0.000000   \n",
       "39096    0.019417       0.016774                      2           0.032520   \n",
       "39097    0.106796       0.021521                      0           0.048780   \n",
       "\n",
       "       loan_intent  loan_grade  loan_amnt  loan_int_rate  loan_percent_income  \\\n",
       "0                5           5   0.710145       0.580899             0.433735   \n",
       "1                2           1   0.275362       0.407865             0.120482   \n",
       "2                3           4   0.101449       0.661236             0.156627   \n",
       "3                4           2   0.188406       0.195506             0.168675   \n",
       "4                5           3   0.420290       0.612360             0.180723   \n",
       "...            ...         ...        ...            ...                  ...   \n",
       "39093            4           0   0.072464       0.278090             0.120482   \n",
       "39094            0           2   0.188406       0.034270             0.180723   \n",
       "39095            2           2   0.420290       0.117416             0.301205   \n",
       "39096            2           3   0.391304       0.573034             0.469880   \n",
       "39097            4           0   0.549275       0.252247             0.530120   \n",
       "\n",
       "       cb_person_default_on_file  cb_person_cred_hist_length  \n",
       "0                              0                    0.000000  \n",
       "1                              1                    0.071429  \n",
       "2                              1                    0.000000  \n",
       "3                              0                    0.178571  \n",
       "4                              1                    0.071429  \n",
       "...                          ...                         ...  \n",
       "39093                          0                    0.071429  \n",
       "39094                          0                    0.035714  \n",
       "39095                          0                    0.821429  \n",
       "39096                          1                    0.071429  \n",
       "39097                          0                    0.250000  \n",
       "\n",
       "[39098 rows x 11 columns]"
      ]
     },
     "execution_count": 22,
     "metadata": {},
     "output_type": "execute_result"
    }
   ],
   "source": [
    "tmp_df = test_df.copy()\n",
    "tmp_df[\"loan_status\"] = 0\n",
    "test_processed_df = pipeline.transform(tmp_df)\n",
    "test_processed_df = test_processed_df.drop(columns=[\"loan_status\"])\n",
    "test_processed_df"
   ]
  },
  {
   "cell_type": "code",
   "execution_count": 23,
   "id": "330e61ed-dc9c-4916-a1e0-1627be3d6a92",
   "metadata": {},
   "outputs": [],
   "source": [
    "test_tensor = torch.tensor(test_processed_df.values, dtype=torch.float32)"
   ]
  },
  {
   "cell_type": "code",
   "execution_count": 24,
   "id": "b081b793-cc8e-46f5-9110-3e16c8ab0dbb",
   "metadata": {},
   "outputs": [],
   "source": [
    "with torch.no_grad():\n",
    "    predict_tensor = model(test_tensor)"
   ]
  },
  {
   "cell_type": "code",
   "execution_count": 25,
   "id": "f768249a-1c99-447c-b905-1c40ab2cb687",
   "metadata": {},
   "outputs": [
    {
     "data": {
      "text/plain": [
       "tensor([[1.0000e+00, 2.4823e-20],\n",
       "        [1.0000e+00, 9.9134e-13],\n",
       "        [1.0000e+00, 6.7111e-16],\n",
       "        ...,\n",
       "        [1.0000e+00, 1.6283e-14],\n",
       "        [1.0000e+00, 2.0089e-16],\n",
       "        [1.0000e+00, 9.7011e-13]])"
      ]
     },
     "execution_count": 25,
     "metadata": {},
     "output_type": "execute_result"
    }
   ],
   "source": [
    "predict_tensor"
   ]
  },
  {
   "cell_type": "code",
   "execution_count": 26,
   "id": "84f46787-131f-4e9e-b3e3-b765c2db8265",
   "metadata": {},
   "outputs": [
    {
     "data": {
      "text/plain": [
       "tensor([0, 0, 0,  ..., 0, 0, 0])"
      ]
     },
     "execution_count": 26,
     "metadata": {},
     "output_type": "execute_result"
    }
   ],
   "source": [
    "predict_tensor.argmax(axis=1)"
   ]
  },
  {
   "cell_type": "code",
   "execution_count": null,
   "id": "f57455a7-6d45-4bf7-a870-132c5fbd9f62",
   "metadata": {},
   "outputs": [],
   "source": []
  }
 ],
 "metadata": {
  "kernelspec": {
   "display_name": "Python 3 (ipykernel)",
   "language": "python",
   "name": "python3"
  },
  "language_info": {
   "codemirror_mode": {
    "name": "ipython",
    "version": 3
   },
   "file_extension": ".py",
   "mimetype": "text/x-python",
   "name": "python",
   "nbconvert_exporter": "python",
   "pygments_lexer": "ipython3",
   "version": "3.12.5"
  }
 },
 "nbformat": 4,
 "nbformat_minor": 5
}
